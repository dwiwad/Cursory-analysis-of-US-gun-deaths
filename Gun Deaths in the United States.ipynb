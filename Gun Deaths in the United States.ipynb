{
 "cells": [
  {
   "cell_type": "markdown",
   "metadata": {
    "collapsed": true
   },
   "source": [
    "# Analyzing Gun Deaths in the United States\n",
    "## Analyzing demographic characteristics of the victims of gun violence in 2012-2014\n",
    "\n",
    "This is the beginning of a project from Dataquest, in which I will be analyzing gun deaths in the United States. The dataset is from FiveThirtyEight. \n",
    "\n",
    "The data contains information on gun deaths in the United States from 2012 to 2014.\n",
    "\n",
    "The gist of the project is looking at demographic patterns of the victims within this dataset."
   ]
  },
  {
   "cell_type": "code",
   "execution_count": 13,
   "metadata": {
    "collapsed": false
   },
   "outputs": [
    {
     "name": "stdout",
     "output_type": "stream",
     "text": [
      "[['', 'year', 'month', 'intent', 'police', 'sex', 'age', 'race', 'hispanic', 'place', 'education'], ['1', '2012', '01', 'Suicide', '0', 'M', '34', 'Asian/Pacific Islander', '100', 'Home', '4'], ['2', '2012', '01', 'Suicide', '0', 'F', '21', 'White', '100', 'Street', '3'], ['3', '2012', '01', 'Suicide', '0', 'M', '60', 'White', '100', 'Other specified', '4'], ['4', '2012', '02', 'Suicide', '0', 'M', '64', 'White', '100', 'Home', '4']]\n"
     ]
    }
   ],
   "source": [
    "import csv #package to open a csv in python\n",
    "\n",
    "# This is just bringing in the data\n",
    "csvreader = csv.reader(open(\"guns.csv\", \"r\"))\n",
    "# Turn it into a list of lists\n",
    "gun_data = list(csvreader)\n",
    "\n",
    "# Printing out the first five rows to ensure they are there\n",
    "print(gun_data[:5])\n"
   ]
  },
  {
   "cell_type": "markdown",
   "metadata": {},
   "source": [
    "### Removing the header from the data\n",
    "\n",
    "Given that the first row is a header row, we want to parse it own so it doesn't get factored into any of our calculation."
   ]
  },
  {
   "cell_type": "code",
   "execution_count": 14,
   "metadata": {
    "collapsed": false
   },
   "outputs": [
    {
     "name": "stdout",
     "output_type": "stream",
     "text": [
      "['', 'year', 'month', 'intent', 'police', 'sex', 'age', 'race', 'hispanic', 'place', 'education']\n",
      "[['1', '2012', '01', 'Suicide', '0', 'M', '34', 'Asian/Pacific Islander', '100', 'Home', '4'], ['2', '2012', '01', 'Suicide', '0', 'F', '21', 'White', '100', 'Street', '3'], ['3', '2012', '01', 'Suicide', '0', 'M', '60', 'White', '100', 'Other specified', '4'], ['4', '2012', '02', 'Suicide', '0', 'M', '64', 'White', '100', 'Home', '4'], ['5', '2012', '02', 'Suicide', '0', 'M', '31', 'White', '100', 'Other specified', '2']]\n"
     ]
    }
   ],
   "source": [
    "# Extracting that row and caling it \"headers\"\n",
    "headers = gun_data[0]\n",
    "# Removing that row from the guns dataset\n",
    "gun_data = gun_data[1:]\n",
    "\n",
    "# Again, just diplaying header and the first five rows \n",
    "# of gun data to make sure everything is right\n",
    "print(headers)\n",
    "print(gun_data[:5])"
   ]
  },
  {
   "cell_type": "markdown",
   "metadata": {
    "collapsed": true
   },
   "source": [
    "## Step 1: Number of gun deaths per year\n",
    "\n",
    "The first step in this analysis is just exploring how many gun deaths happened in each year. So I will get those counts, and display gun deaths by year."
   ]
  },
  {
   "cell_type": "code",
   "execution_count": 15,
   "metadata": {
    "collapsed": false
   },
   "outputs": [
    {
     "name": "stdout",
     "output_type": "stream",
     "text": [
      "{'2014': 33599, '2012': 33563, '2013': 33636}\n"
     ]
    }
   ],
   "source": [
    "# Extracting the year column from gun_data\n",
    "# I made an empty list called years, and then for each\n",
    "# row in the gun data set, append the year into years\n",
    "years = []\n",
    "for row in gun_data:\n",
    "    years.append(row[1])\n",
    "    \n",
    "# Now we will turn this into a dictionary, where year is\n",
    "# the key and the value is the number of deaths\n",
    "year_counts = {}\n",
    "# Populate the dictionary!\n",
    "for year in years:\n",
    "    if year not in year_counts:\n",
    "        year_counts[year] = 1\n",
    "    else:\n",
    "        year_counts[year] += 1\n",
    "        \n",
    "# Now just printing year counts to see the number of deaths\n",
    "# per year\n",
    "print(year_counts)\n",
    "    "
   ]
  },
  {
   "cell_type": "markdown",
   "metadata": {},
   "source": [
    "## Step 2: Do gun deaths change by month?\n",
    "\n",
    "Using some of the techniques I just recently learned with dates and creating datetime.datetime objects to analyze the gun deaths in a more granular way.\n",
    "\n",
    "For instance, exploring the number of gun deaths by specific using the month column from the dataset."
   ]
  },
  {
   "cell_type": "code",
   "execution_count": 16,
   "metadata": {
    "collapsed": false
   },
   "outputs": [
    {
     "name": "stdout",
     "output_type": "stream",
     "text": [
      "[datetime.datetime(2012, 1, 1, 0, 0), datetime.datetime(2012, 1, 1, 0, 0), datetime.datetime(2012, 1, 1, 0, 0), datetime.datetime(2012, 2, 1, 0, 0), datetime.datetime(2012, 2, 1, 0, 0)]\n"
     ]
    }
   ],
   "source": [
    "# First step is to create the datetime objects\n",
    "# This should convert the years and months into integers,\n",
    "# and then datetime objects\n",
    "import datetime\n",
    "\n",
    "dates = []\n",
    "for row in gun_data:\n",
    "    dates.append(datetime.datetime(year=int(row[1]), month=int(row[2]), day=1))\n",
    "\n",
    "print(dates[:5])\n"
   ]
  },
  {
   "cell_type": "markdown",
   "metadata": {},
   "source": [
    "### How many gun deaths by month?\n",
    "\n",
    "Exactly as the title implies: How many gun deaths occurred in the United States by month and year?"
   ]
  },
  {
   "cell_type": "code",
   "execution_count": 17,
   "metadata": {
    "collapsed": false
   },
   "outputs": [
    {
     "name": "stdout",
     "output_type": "stream",
     "text": [
      "{datetime.datetime(2012, 5, 1, 0, 0): 2999, datetime.datetime(2013, 10, 1, 0, 0): 2808, datetime.datetime(2013, 7, 1, 0, 0): 3079, datetime.datetime(2014, 12, 1, 0, 0): 2857, datetime.datetime(2014, 8, 1, 0, 0): 2970, datetime.datetime(2013, 1, 1, 0, 0): 2864, datetime.datetime(2014, 3, 1, 0, 0): 2684, datetime.datetime(2014, 6, 1, 0, 0): 2931, datetime.datetime(2014, 11, 1, 0, 0): 2756, datetime.datetime(2014, 7, 1, 0, 0): 2884, datetime.datetime(2012, 10, 1, 0, 0): 2733, datetime.datetime(2013, 8, 1, 0, 0): 2859, datetime.datetime(2013, 5, 1, 0, 0): 2806, datetime.datetime(2012, 6, 1, 0, 0): 2826, datetime.datetime(2013, 9, 1, 0, 0): 2742, datetime.datetime(2012, 12, 1, 0, 0): 2791, datetime.datetime(2014, 10, 1, 0, 0): 2865, datetime.datetime(2013, 12, 1, 0, 0): 2765, datetime.datetime(2012, 2, 1, 0, 0): 2357, datetime.datetime(2012, 7, 1, 0, 0): 3026, datetime.datetime(2012, 8, 1, 0, 0): 2954, datetime.datetime(2014, 5, 1, 0, 0): 2864, datetime.datetime(2012, 11, 1, 0, 0): 2729, datetime.datetime(2012, 4, 1, 0, 0): 2795, datetime.datetime(2012, 1, 1, 0, 0): 2758, datetime.datetime(2014, 4, 1, 0, 0): 2862, datetime.datetime(2014, 2, 1, 0, 0): 2361, datetime.datetime(2013, 4, 1, 0, 0): 2798, datetime.datetime(2012, 9, 1, 0, 0): 2852, datetime.datetime(2013, 3, 1, 0, 0): 2862, datetime.datetime(2012, 3, 1, 0, 0): 2743, datetime.datetime(2013, 2, 1, 0, 0): 2375, datetime.datetime(2013, 11, 1, 0, 0): 2758, datetime.datetime(2013, 6, 1, 0, 0): 2920, datetime.datetime(2014, 9, 1, 0, 0): 2914, datetime.datetime(2014, 1, 1, 0, 0): 2651}\n"
     ]
    }
   ],
   "source": [
    "# Counting how many times each unique date occurs\n",
    "# Same structure as my year counts from above\n",
    "\n",
    "date_counts = {}\n",
    "for date in dates:\n",
    "    if date not in date_counts:\n",
    "        date_counts[date] = 1\n",
    "    else:\n",
    "        date_counts[date] += 1\n",
    "    \n",
    "print(date_counts)\n",
    "    "
   ]
  },
  {
   "cell_type": "markdown",
   "metadata": {
    "collapsed": true
   },
   "source": [
    "## Sex and Race\n",
    "\n",
    "Now I am going to analyze the gun death data by sex and race. Specifically, how many of each reported sex and race were fatal victims of gun violence."
   ]
  },
  {
   "cell_type": "code",
   "execution_count": 18,
   "metadata": {
    "collapsed": false
   },
   "outputs": [
    {
     "name": "stdout",
     "output_type": "stream",
     "text": [
      "{'F': 14449, 'M': 86349}\n",
      "{'Asian/Pacific Islander': 1326, 'Native American/Native Alaskan': 917, 'Black': 23296, 'Hispanic': 9022, 'White': 66237}\n"
     ]
    }
   ],
   "source": [
    "# Just counting the number of times each item appears in:\n",
    "# 'sex'\n",
    "sex = [row[5] for row in gun_data]\n",
    "    \n",
    "sex_counts = {}\n",
    "for sex in sex:\n",
    "    if sex not in sex_counts:\n",
    "        sex_counts[sex] = 1\n",
    "    else:\n",
    "        sex_counts[sex] += 1\n",
    "print(sex_counts) # Printing again just to check\n",
    "\n",
    "# race\n",
    "race = [row[7] for row in gun_data]\n",
    "\n",
    "race_counts = {}\n",
    "for race in race:\n",
    "    if race not in race_counts:\n",
    "        race_counts[race] = 1\n",
    "    else:\n",
    "        race_counts[race] += 1\n",
    "print(race_counts)"
   ]
  },
  {
   "cell_type": "markdown",
   "metadata": {},
   "source": [
    "That first bit shows us the number of male and female victims, as well as the number of victims by race.\n",
    "\n",
    "### Sex\n",
    "\n",
    "What I can see in these data is that there are approximately 6 times as many men killed by gun than there are women killed by gun.\n",
    "\n",
    "### Race\n",
    "\n",
    "Race differences also present a pretty striking pattern, in a way. The vast majority of the victims were white (66,237) followed by black (22,296), and then hispanic (9,022). Though still a pretty stark constrast.\n",
    "\n",
    "One interesting other thing to explore would be the interaction between the two - how many of these gun deaths were black men versus white men? black women versus white women?"
   ]
  },
  {
   "cell_type": "code",
   "execution_count": 20,
   "metadata": {
    "collapsed": false
   },
   "outputs": [
    {
     "name": "stdout",
     "output_type": "stream",
     "text": [
      "[['Id', 'Year', 'Id', 'Sex', 'Id', 'Hispanic Origin', 'Id', 'Id2', 'Geography', 'Total', 'Race Alone - White', 'Race Alone - Hispanic', 'Race Alone - Black or African American', 'Race Alone - American Indian and Alaska Native', 'Race Alone - Asian', 'Race Alone - Native Hawaiian and Other Pacific Islander', 'Two or More Races'], ['cen42010', 'April 1, 2010 Census', 'totsex', 'Both Sexes', 'tothisp', 'Total', '0100000US', '', 'United States', '308745538', '197318956', '44618105', '40250635', '3739506', '15159516', '674625', '6984195']]\n"
     ]
    }
   ],
   "source": [
    "# Let's get us some census data\n",
    "csvreader = csv.reader(open(\"census.csv\", \"r\"))\n",
    "# Turn it into a list of lists\n",
    "census = list(csvreader)\n",
    "\n",
    "# Printing out the first five rows to ensure they are there\n",
    "print(census)"
   ]
  },
  {
   "cell_type": "markdown",
   "metadata": {},
   "source": [
    "The census data that I read in above gives me the number of people who belong to each racial group in the United States.\n",
    "\n",
    "## Gun Deaths by race per 100,000"
   ]
  },
  {
   "cell_type": "code",
   "execution_count": 24,
   "metadata": {
    "collapsed": false
   },
   "outputs": [
    {
     "name": "stdout",
     "output_type": "stream",
     "text": [
      "{'Asian/Pacific Islander': 8.374309664161762, 'Native American/Native Alaskan': 24.521955573811088, 'Black': 57.8773477735196, 'White': 33.56849303419181, 'Hispanic': 20.220491210910907}\n"
     ]
    }
   ],
   "source": [
    "# Manually create a mapping dictionary to allow the two \n",
    "# datasets to talk\n",
    "mapping = {\n",
    "    'Asian/Pacific Islander': 15159516 + 674625,\n",
    "    'Native American/Native Alaskan': 3739506,\n",
    "    'Black': 40250635,\n",
    "    'Hispanic': 44618105,\n",
    "    'White': 197318956\n",
    "}\n",
    "\n",
    "# Empty dictionary for our per 100,000 counts\n",
    "race_per_hundredk = {}\n",
    "for race in race_counts:\n",
    "    race_per_hundredk[race] = (race_counts[race]/mapping[race])*100000\n",
    "print(race_per_hundredk)"
   ]
  },
  {
   "cell_type": "markdown",
   "metadata": {},
   "source": [
    "### Summary of the Race by 100,000 people data\n",
    "\n",
    "Now, we've learned a lot more by looking per capita. While when we look at absolute numbers, white people are killed FAR more frequently than black and hispanic people. However, there are nearly 200 million white people in the United States relative to the approximately 40 million black people.\n",
    "\n",
    "When we look at gun deaths per 100,000 black people are far and away the highest with approximately 58 deaths per 100,000 relative to the white 34 deaths per 100,000.\n",
    "\n",
    "Lastly, lets take a look at intent."
   ]
  },
  {
   "cell_type": "markdown",
   "metadata": {},
   "source": [
    "## Gun deaths by Homicide intent\n",
    "\n",
    "Now, I am going to filter out all of the results that are not death by homicide. So, we are only going to look at homicide deaths."
   ]
  },
  {
   "cell_type": "code",
   "execution_count": 26,
   "metadata": {
    "collapsed": false
   },
   "outputs": [
    {
     "name": "stdout",
     "output_type": "stream",
     "text": [
      "{'Asian/Pacific Islander': 559, 'Native American/Native Alaskan': 326, 'Black': 19510, 'Hispanic': 5634, 'White': 9147}\n"
     ]
    }
   ],
   "source": [
    "# First we pull out the column of intents so we can work \n",
    "# with it\n",
    "intents = []\n",
    "for row in gun_data:\n",
    "    intents.append(row[3])\n",
    "    \n",
    "# Now the same with races\n",
    "races = []\n",
    "for row in gun_data:\n",
    "    races.append(row[7])\n",
    "    \n",
    "# Empty dictionary for the homicide by races\n",
    "homicide_race_counts = {}\n",
    "for idx, race in enumerate(races):\n",
    "    if intents[idx] == 'Homicide' and race not in homicide_race_counts:\n",
    "        homicide_race_counts[race] = 0\n",
    "    if intents[idx] == 'Homicide' and race in homicide_race_counts:\n",
    "        homicide_race_counts[race] += 1\n",
    "\n",
    "# Just printing again to make sure that it worked\n",
    "print(homicide_race_counts)\n"
   ]
  },
  {
   "cell_type": "markdown",
   "metadata": {},
   "source": [
    "Again, not the most meaningful without scaling to be per 100,000. So doing that now."
   ]
  },
  {
   "cell_type": "code",
   "execution_count": 28,
   "metadata": {
    "collapsed": false
   },
   "outputs": [
    {
     "name": "stdout",
     "output_type": "stream",
     "text": [
      "{'Asian/Pacific Islander': 3.530346230970155, 'Native American/Native Alaskan': 8.717729026240365, 'Black': 48.471284987180944, 'White': 4.6356417981453335, 'Hispanic': 12.627161104219914}\n"
     ]
    }
   ],
   "source": [
    "# Empty dictionary to store the results\n",
    "homicides_per_hundredk = {}\n",
    "\n",
    "for race in homicide_race_counts:\n",
    "    homicides_per_hundredk[race] = (homicide_race_counts[race]/mapping[race])*100000\n",
    "print(homicides_per_hundredk)"
   ]
  },
  {
   "cell_type": "markdown",
   "metadata": {},
   "source": [
    "## Final Summary and Next Steps\n",
    "\n",
    "I went through the gun data from FiveThirtyEight, analyzing the number of (a) total and (b) homicide gun deaths by race (per 100,000 people).\n",
    "\n",
    "In both cases, Black people had far and away the highest gun death rate, at 57 people per 100,000 total, and 48 homicides per 100,000.\n",
    "\n",
    "Next I would like to look at the interaction between race and gender, suicides by gender, gun deaths at home by gender, gun deaths by education leavel, and gun deaths by age."
   ]
  },
  {
   "cell_type": "markdown",
   "metadata": {},
   "source": [
    "# Gun Deaths by Race and Gender"
   ]
  },
  {
   "cell_type": "markdown",
   "metadata": {},
   "source": [
    "# Suicide by Gun in Men and Women"
   ]
  },
  {
   "cell_type": "markdown",
   "metadata": {},
   "source": [
    "# Gun Deaths by Education Level"
   ]
  },
  {
   "cell_type": "markdown",
   "metadata": {},
   "source": [
    "# Gun Deaths by Age"
   ]
  },
  {
   "cell_type": "code",
   "execution_count": null,
   "metadata": {
    "collapsed": true
   },
   "outputs": [],
   "source": []
  }
 ],
 "metadata": {
  "kernelspec": {
   "display_name": "Python 3",
   "language": "python",
   "name": "python3"
  },
  "language_info": {
   "codemirror_mode": {
    "name": "ipython",
    "version": 3
   },
   "file_extension": ".py",
   "mimetype": "text/x-python",
   "name": "python",
   "nbconvert_exporter": "python",
   "pygments_lexer": "ipython3",
   "version": "3.4.3"
  }
 },
 "nbformat": 4,
 "nbformat_minor": 0
}
